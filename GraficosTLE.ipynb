{
  "nbformat": 4,
  "nbformat_minor": 0,
  "metadata": {
    "colab": {
      "provenance": [],
      "authorship_tag": "ABX9TyOOMqGetLgxvjxoyv+XkNub",
      "include_colab_link": true
    },
    "kernelspec": {
      "name": "python3",
      "display_name": "Python 3"
    },
    "language_info": {
      "name": "python"
    }
  },
  "cells": [
    {
      "cell_type": "markdown",
      "metadata": {
        "id": "view-in-github",
        "colab_type": "text"
      },
      "source": [
        "<a href=\"https://colab.research.google.com/github/ednavivianasegura/CodigosEnGeneral/blob/main/GraficosTLE.ipynb\" target=\"_parent\"><img src=\"https://colab.research.google.com/assets/colab-badge.svg\" alt=\"Open In Colab\"/></a>"
      ]
    },
    {
      "cell_type": "code",
      "source": [
        "!pip install ephem\n",
        "!pip install seaborn\n",
        "!git clone https://github.com/ednavivianasegura/CodigosEnGeneral.git\n"
      ],
      "metadata": {
        "collapsed": true,
        "id": "HrB_12L-1Sr0"
      },
      "execution_count": null,
      "outputs": []
    },
    {
      "cell_type": "code",
      "execution_count": null,
      "metadata": {
        "id": "uHiFgkAp0USQ"
      },
      "outputs": [],
      "source": [
        "# -*- coding: utf-8 -*-\n",
        "\"\"\"\n",
        "Created on Mon Jun 13/03/2025\n",
        "\n",
        "@author: edsegualv\n",
        "\"\"\"\n",
        "\n",
        "import pandas as pd\n",
        "import sys\n",
        "import ephem\n",
        "import math\n",
        "from matplotlib import pyplot as plt\n",
        "import seaborn as sns\n",
        "\n",
        "\n",
        "tle_file_path=\"/content/CodigosEnGeneral/TLE_GALILEO_8.tle\"\n",
        "\n",
        "with open(tle_file_path, \"r\") as file:\n",
        "    data=file.read().split(\"\\n\")\n",
        "\n",
        "\n",
        "mu = 398600\n",
        "pi = math.pi\n",
        "\n",
        "\n",
        "def parse_tle(line1, line2):\n",
        "    satellite = ephem.readtle('Satellite', line1, line2)\n",
        "    n=satellite.n\n",
        "    print(f\"line1 es: {line1}\")\n",
        "    print(f\"line2 es: {line2}\")\n",
        "    print(f\"El primer n es: {n}\")\n",
        "    n=n*(2*pi/86400)\n",
        "    return ((mu/n**2)**(1/3), satellite.e, satellite.inc, satellite.raan, satellite.ap,  satellite.M)\n",
        "\n",
        "\n",
        "lines1 = data[:-2:2]\n",
        "lines2 = data[1:-1:2]\n",
        "\n",
        "\n",
        "elements = [parse_tle(line1, line2) for line1 ,line2 in zip(lines1,lines2)]\n",
        "\n",
        "# Definir los nombres de las columnas\n",
        "nombres_columnas = ['Semieje mayor (a)', 'Excentricidad (e)', 'Inclinación (i)', \"Longitud del nodo ascendente ($\\Omega$)\", \"Argumento del perigeo ($\\omega$)\", 'Anomalía media (M)']\n",
        "\n",
        "# Crear un DataFrame a partir de la lista de tuplas y los nombres de las columnas\n",
        "dataframe = pd.DataFrame(elements, columns=nombres_columnas)\n",
        "# # dataframe = dataframe.drop_duplicates()\n",
        "\n",
        "resumen = dataframe.describe(include='all',percentiles=[.25, .5, .75,.90])\n",
        "# print(resumen)\n",
        "dataframe[\"TLE\"]= range(1,315)\n",
        "\n",
        "\n",
        "\n",
        "#################################################################\n",
        "#################################################################\n",
        "# gráfico a vs e\n",
        "#################################################################\n",
        "#################################################################\n",
        "\n",
        "\n",
        "plt.figure(figsize=(10, 6))\n",
        "plt.scatter(dataframe['Semieje mayor (a)'], dataframe['Excentricidad (e)'], alpha=0.7)\n",
        "plt.xlabel('Semieje mayor (a)')\n",
        "plt.ylabel('Excentricidad (e)')\n",
        "plt.show()\n",
        "\n",
        "# #################################################################\n",
        "# #################################################################\n",
        "# # gráfico a vs i\n",
        "# #################################################################\n",
        "# #################################################################\n",
        "\n",
        "\n",
        "plt.figure(figsize=(10, 6))\n",
        "plt.scatter(dataframe['Semieje mayor (a)'], dataframe['Inclinación (i)'], alpha=0.7)\n",
        "plt.xlabel('Semieje mayor (a)')\n",
        "plt.ylabel('Inclinación (i)')\n",
        "plt.show()\n",
        "\n",
        "\n",
        "# #################################################################\n",
        "# #################################################################\n",
        "# # gráfico e vs w\n",
        "# #################################################################\n",
        "# #################################################################\n",
        "\n",
        "\n",
        "plt.figure(figsize=(10, 6))\n",
        "plt.scatter(dataframe['Excentricidad (e)'], dataframe['Argumento del perigeo ($\\\\omega$)'], alpha=0.7)\n",
        "plt.xlabel('Excentricidad (e)')\n",
        "plt.ylabel('Argumento del perigeo ($\\\\omega$)')\n",
        "plt.show()\n",
        "\n",
        "\n",
        "\n",
        "\n"
      ]
    }
  ]
}
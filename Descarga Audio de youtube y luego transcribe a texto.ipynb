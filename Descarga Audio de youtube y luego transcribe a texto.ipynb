{
  "cells": [
    {
      "cell_type": "markdown",
      "metadata": {
        "id": "view-in-github",
        "colab_type": "text"
      },
      "source": [
        "<a href=\"https://colab.research.google.com/github/ednavivianasegura/CodigosEnGeneral/blob/main/Descarga%20Audio%20de%20youtube%20y%20luego%20transcribe%20a%20texto.ipynb\" target=\"_parent\"><img src=\"https://colab.research.google.com/assets/colab-badge.svg\" alt=\"Open In Colab\"/></a>"
      ]
    },
    {
      "cell_type": "markdown",
      "source": [
        "# Código para extraer el audio y el texto de un video de Youtube o de audio cargado\n",
        "\n",
        "Cómo resultado, se extrae un archivo llamado cuyo nombre debe ser proporcionado en la variable **nombre_archivo** que debe ser posteriormente descargado al ordenador local"
      ],
      "metadata": {
        "id": "IM8tzR1XRW_I"
      },
      "id": "IM8tzR1XRW_I"
    },
    {
      "cell_type": "code",
      "source": [
        "!pip install pytube\n",
        "!pip install git+https://github.com/openai/whisper.git"
      ],
      "metadata": {
        "id": "xfvEL2HKhPLP"
      },
      "id": "xfvEL2HKhPLP",
      "execution_count": null,
      "outputs": []
    },
    {
      "cell_type": "code",
      "source": [
        "import os\n",
        "import whisper\n",
        "from pytube import YouTube"
      ],
      "metadata": {
        "id": "Ug7plA1efbCT"
      },
      "id": "Ug7plA1efbCT",
      "execution_count": null,
      "outputs": []
    },
    {
      "cell_type": "code",
      "source": [
        "PathTextExtraction=\"audio_transcriptionYT/\"\n",
        "try:\n",
        "  os.stat(PathTextExtraction)\n",
        "except:\n",
        "  os.mkdir(PathTextExtraction)\n",
        "#Cargar modelo para extraer texto\n",
        "model = whisper.load_model(\"large\")"
      ],
      "metadata": {
        "id": "Ih7c-xYPfWQr"
      },
      "id": "Ih7c-xYPfWQr",
      "execution_count": null,
      "outputs": []
    },
    {
      "cell_type": "markdown",
      "source": [
        "***\n",
        "Si el texto proviene de un video de youtube\n",
        "***"
      ],
      "metadata": {
        "id": "GJO_Stx1PUhP"
      },
      "id": "GJO_Stx1PUhP"
    },
    {
      "cell_type": "code",
      "source": [
        "# @title Descargando audio con librería de Python:\n",
        "video_link = \"https://www.youtube.com/watch?v=9qGRU9soP4A&t=2s&ab_channel=ElTraductordeIngenier%C3%ADa\"\n",
        "video = YouTube(video_link)\n",
        "#pasar video a audio\n",
        "audio = video.streams.filter(only_audio=True).first().download(PathTextExtraction)\n",
        "\n",
        "#se el video tiene restricciones, probar descargando el audio directamente en la página web :https://y2meta.app/es/youtube/9qGRU9soP4A y luego subir el archivo para ejecutar la celda \"Cargando el archivo\"\n",
        "result= model.transcribe(audio)\n",
        "Texto=result[\"text\"]\n",
        "# Nombre del archivo en el que se guardará el texto\n",
        "nombre_archivo = \"texto_del archivo.txt\"\n",
        "\n",
        "# Abrir el archivo en modo escritura ('w')\n",
        "with open(nombre_archivo, 'w') as archivo:\n",
        "    # Escribir el contenido de la variable Texto en el archivo\n",
        "    archivo.write(Texto)"
      ],
      "metadata": {
        "id": "v1kivvO6eSyO",
        "cellView": "form"
      },
      "id": "v1kivvO6eSyO",
      "execution_count": null,
      "outputs": []
    },
    {
      "cell_type": "markdown",
      "source": [
        "***\n",
        "Si el texto proviene de un archivo de audio (Que debe ser cargado en la carpeta **audio_transcriptionYT**)\n",
        "***\n",
        "\n",
        "Es necesario, primero cargar el archivo.mp3 a la carpeta audio_transcriptionYT\n",
        "***"
      ],
      "metadata": {
        "id": "eFE89ziqPgul"
      },
      "id": "eFE89ziqPgul"
    },
    {
      "cell_type": "code",
      "source": [
        "# @title Cargando el archivo\n",
        "result = model.transcribe(\"/content/audio_transcriptionYT/va.mp3\")\n",
        "Texto=result[\"text\"]\n",
        "nombre_archivo1 = \"Listening_1.txt\"\n",
        "\n",
        "# Abrir el archivo en modo escritura ('w')\n",
        "with open(nombre_archivo1, 'w') as archivo:\n",
        "    # Escribir el contenido de la variable Texto en el archivo\n",
        "    archivo.write(Texto)\n",
        ""
      ],
      "metadata": {
        "id": "6HQ810bgNCkn"
      },
      "id": "6HQ810bgNCkn",
      "execution_count": null,
      "outputs": []
    },
    {
      "cell_type": "code",
      "source": [
        "display(Texto)"
      ],
      "metadata": {
        "id": "V0XWp-piBAdv"
      },
      "id": "V0XWp-piBAdv",
      "execution_count": null,
      "outputs": []
    },
    {
      "cell_type": "code",
      "source": [],
      "metadata": {
        "id": "-r9RBEtYBDBT"
      },
      "id": "-r9RBEtYBDBT",
      "execution_count": null,
      "outputs": []
    }
  ],
  "metadata": {
    "accelerator": "GPU",
    "colab": {
      "provenance": [],
      "gpuType": "T4",
      "include_colab_link": true
    },
    "kernelspec": {
      "display_name": "Python 3",
      "name": "python3"
    },
    "language_info": {
      "codemirror_mode": {
        "name": "ipython",
        "version": 3
      },
      "file_extension": ".py",
      "mimetype": "text/x-python",
      "name": "python",
      "nbconvert_exporter": "python",
      "pygments_lexer": "ipython3",
      "version": "3.8.16"
    }
  },
  "nbformat": 4,
  "nbformat_minor": 5
}
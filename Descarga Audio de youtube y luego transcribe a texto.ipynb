{
  "cells": [
    {
      "cell_type": "markdown",
      "metadata": {
        "id": "view-in-github",
        "colab_type": "text"
      },
      "source": [
        "<a href=\"https://colab.research.google.com/github/ednavivianasegura/CodigosEnGeneral/blob/main/Descarga%20Audio%20de%20youtube%20y%20luego%20transcribe%20a%20texto.ipynb\" target=\"_parent\"><img src=\"https://colab.research.google.com/assets/colab-badge.svg\" alt=\"Open In Colab\"/></a>"
      ]
    },
    {
      "cell_type": "markdown",
      "source": [
        "# Código para extraer el audio y el texto de un video de Youtube o de audio cargado\n",
        "\n",
        "Cómo resultado, se extrae un archivo llamado cuyo nombre debe ser proporcionado en la variable **nombre_archivo** que debe ser posteriormente descargado al ordenador local"
      ],
      "metadata": {
        "id": "IM8tzR1XRW_I"
      },
      "id": "IM8tzR1XRW_I"
    },
    {
      "cell_type": "code",
      "source": [
        "!pip install pytube\n",
        "!pip install git+https://github.com/openai/whisper.git"
      ],
      "metadata": {
        "id": "xfvEL2HKhPLP"
      },
      "id": "xfvEL2HKhPLP",
      "execution_count": null,
      "outputs": []
    },
    {
      "cell_type": "code",
      "source": [
        "import os\n",
        "import whisper\n",
        "from pytube import YouTube"
      ],
      "metadata": {
        "id": "Ug7plA1efbCT"
      },
      "id": "Ug7plA1efbCT",
      "execution_count": 2,
      "outputs": []
    },
    {
      "cell_type": "code",
      "source": [
        "PathTextExtraction=\"audio_transcriptionYT/\"\n",
        "try:\n",
        "  os.stat(PathTextExtraction)\n",
        "except:\n",
        "  os.mkdir(PathTextExtraction)\n",
        "#Cargar modelo para extraer texto\n",
        "model = whisper.load_model(\"medium\")"
      ],
      "metadata": {
        "id": "Ih7c-xYPfWQr"
      },
      "id": "Ih7c-xYPfWQr",
      "execution_count": null,
      "outputs": []
    },
    {
      "cell_type": "markdown",
      "source": [
        "***\n",
        "Si el texto proviene de un video de youtube\n",
        "***"
      ],
      "metadata": {
        "id": "GJO_Stx1PUhP"
      },
      "id": "GJO_Stx1PUhP"
    },
    {
      "cell_type": "code",
      "source": [
        "video_link = \"https://www.youtube.com/watch?v=wDjeBNv6ip0&list=RDwDjeBNv6ip0&start_radio=1&ab_channel=LP\"\n",
        "video = YouTube(video_link)"
      ],
      "metadata": {
        "id": "v1kivvO6eSyO"
      },
      "id": "v1kivvO6eSyO",
      "execution_count": 4,
      "outputs": []
    },
    {
      "cell_type": "code",
      "source": [
        "#pasar video a audio\n",
        "audio = video.streams.filter(only_audio=True).first().download(PathTextExtraction)\n"
      ],
      "metadata": {
        "id": "xQZaTdQOdsBb"
      },
      "id": "xQZaTdQOdsBb",
      "execution_count": 5,
      "outputs": []
    },
    {
      "cell_type": "code",
      "source": [
        "result= model.transcribe(audio)\n",
        "Texto=result[\"text\"]"
      ],
      "metadata": {
        "id": "-qROX3eWejVc"
      },
      "id": "-qROX3eWejVc",
      "execution_count": 6,
      "outputs": []
    },
    {
      "cell_type": "code",
      "source": [
        "# Nombre del archivo en el que se guardará el texto\n",
        "nombre_archivo = \"LostOnYou.txt\"\n",
        "\n",
        "# Abrir el archivo en modo escritura ('w')\n",
        "with open(nombre_archivo, 'w') as archivo:\n",
        "    # Escribir el contenido de la variable Texto en el archivo\n",
        "    archivo.write(Texto)"
      ],
      "metadata": {
        "id": "wEwNffUCidBf"
      },
      "id": "wEwNffUCidBf",
      "execution_count": 7,
      "outputs": []
    },
    {
      "cell_type": "markdown",
      "source": [
        "***\n",
        "Si el texto proviene de un archivo de audio (Que debe ser cargado en la carpeta **audio_transcriptionYT**)\n",
        "***"
      ],
      "metadata": {
        "id": "eFE89ziqPgul"
      },
      "id": "eFE89ziqPgul"
    },
    {
      "cell_type": "code",
      "source": [
        "result = model.transcribe(\"/content/audio_transcriptionYT/cambridge-english-first-2015-sample-paper-1-listening-audio-file v2.mp3\")\n",
        "Texto=result[\"text\"]\n",
        "nombre_archivo1 = \"Listening_1.txt\"\n",
        "\n",
        "# Abrir el archivo en modo escritura ('w')\n",
        "with open(nombre_archivo1, 'w') as archivo:\n",
        "    # Escribir el contenido de la variable Texto en el archivo\n",
        "    archivo.write(Texto)"
      ],
      "metadata": {
        "id": "6HQ810bgNCkn"
      },
      "id": "6HQ810bgNCkn",
      "execution_count": null,
      "outputs": []
    }
  ],
  "metadata": {
    "accelerator": "GPU",
    "colab": {
      "provenance": [],
      "gpuType": "T4",
      "include_colab_link": true
    },
    "kernelspec": {
      "display_name": "Python 3",
      "name": "python3"
    },
    "language_info": {
      "codemirror_mode": {
        "name": "ipython",
        "version": 3
      },
      "file_extension": ".py",
      "mimetype": "text/x-python",
      "name": "python",
      "nbconvert_exporter": "python",
      "pygments_lexer": "ipython3",
      "version": "3.8.16"
    }
  },
  "nbformat": 4,
  "nbformat_minor": 5
}
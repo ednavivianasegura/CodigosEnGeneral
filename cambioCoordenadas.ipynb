import numpy as np
from scipy.constants import G

# Definir la constante gravitatoria de la Tierra (m^3/s^2)
mu = 3.986004418e14  # en m^3/s^2

# Datos en coordenadas de Hill
t = 0.00000
r = 29946.918128158951731  # Distancia radial en m
theta = 4.642003743938933  # Ángulo en radianes
v = 1.652071099429127  # Velocidad radial en m/s
R = 0.001184574107876  # Velocidad angular en rad/s
THETA = 109267.497916949127102  # Velocidad tangencial en m/s
N = 62437.671105033790809  # Velocidad normal en m/s

# Convertir a coordenadas cartesianas en el sistema inercial
x = r * np.cos(theta)
y = r * np.sin(theta)
z = 0  # Suponiendo movimiento en el plano ecuatorial

vx = v * np.cos(theta) - THETA * np.sin(theta)
vy = v * np.sin(theta) + THETA * np.cos(theta)
vz = N  # Componente normal

# Vector de posición y velocidad
r_vec = np.array([x, y, z])
v_vec = np.array([vx, vy, vz])

# Cálculo del momento angular específico
h_vec = np.cross(r_vec, v_vec)
h = np.linalg.norm(h_vec)

# Cálculo del vector de excentricidad
e_vec = (np.cross(v_vec, h_vec) / mu) - (r_vec / np.linalg.norm(r_vec))
e = np.linalg.norm(e_vec)

# Cálculo del semieje mayor
a = 1 / ((2 / np.linalg.norm(r_vec)) - (np.linalg.norm(v_vec)**2 / mu))

# Inclinación
inc = np.arccos(h_vec[2] / h)

# Nodo ascendente
n_vec = np.cross([0, 0, 1], h_vec)
n = np.linalg.norm(n_vec)

# Longitud del nodo ascendente
if n_vec[1] >= 0:
    RAAN = np.arccos(n_vec[0] / n)
else:
    RAAN = 2 * np.pi - np.arccos(n_vec[0] / n)

# Argumento del periastro
if e_vec[2] >= 0:
    omega = np.arccos(np.dot(n_vec, e_vec) / (n * e))
else:
    omega = 2 * np.pi - np.arccos(np.dot(n_vec, e_vec) / (n * e))

# Anomalía verdadera
if np.dot(r_vec, v_vec) >= 0:
    theta_true = np.arccos(np.dot(e_vec, r_vec) / (e * np.linalg.norm(r_vec)))
else:
    theta_true = 2 * np.pi - np.arccos(np.dot(e_vec, r_vec) / (e * np.linalg.norm(r_vec)))

# Mostrar resultados
print("Elementos orbitales:")
print(f"Semieje mayor (a): {a} m")
print(f"Excentricidad (e): {e}")
print(f"Inclinación (i): {np.degrees(inc)} grados")
print(f"Longitud del nodo ascendente (RAAN): {np.degrees(RAAN)} grados")
print(f"Argumento del periastro (omega): {np.degrees(omega)} grados")
print(f"Anomalía verdadera (theta): {np.degrees(theta_true)} grados")


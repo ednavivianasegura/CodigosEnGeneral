{
  "nbformat": 4,
  "nbformat_minor": 0,
  "metadata": {
    "colab": {
      "provenance": [],
      "authorship_tag": "ABX9TyMIAivEyrFiAJV1UpE2Zx6U",
      "include_colab_link": true
    },
    "kernelspec": {
      "name": "python3",
      "display_name": "Python 3"
    },
    "language_info": {
      "name": "python"
    }
  },
  "cells": [
    {
      "cell_type": "markdown",
      "metadata": {
        "id": "view-in-github",
        "colab_type": "text"
      },
      "source": [
        "<a href=\"https://colab.research.google.com/github/ednavivianasegura/CodigosEnGeneral/blob/main/cambioCoordenadas.ipynb\" target=\"_parent\"><img src=\"https://colab.research.google.com/assets/colab-badge.svg\" alt=\"Open In Colab\"/></a>"
      ]
    },
    {
      "cell_type": "code",
      "execution_count": 1,
      "metadata": {
        "colab": {
          "base_uri": "https://localhost:8080/"
        },
        "id": "SlP1b12oqN6T",
        "outputId": "db262793-f553-4169-8db5-7b71443c3fed"
      },
      "outputs": [
        {
          "output_type": "stream",
          "name": "stdout",
          "text": [
            "Elementos orbitales:\n",
            "Semieje mayor (a): 36966.951254679385 m\n",
            "Excentricidad (e): 0.18990024615027645\n",
            "Inclinación (i): 29.744525878514043 grados\n",
            "Longitud del nodo ascendente (RAAN): 265.9672230116277 grados\n",
            "Argumento del periastro (omega): 359.9952870992521 grados\n",
            "Anomalía verdadera (theta): 0.004712900670569926 grados\n"
          ]
        }
      ],
      "source": [
        "import numpy as np\n",
        "from scipy.constants import G\n",
        "\n",
        "# Definir la constante gravitatoria de la Tierra (m^3/s^2)\n",
        "mu = 3.986004418e14  # en m^3/s^2\n",
        "\n",
        "# Datos en coordenadas de Hill\n",
        "t = 0.00000\n",
        "r = 29946.918128158951731  # Distancia radial en m\n",
        "theta = 4.642003743938933  # Ángulo en radianes\n",
        "v = 1.652071099429127  # Velocidad radial en m/s\n",
        "R = 0.001184574107876  # Velocidad angular en rad/s\n",
        "THETA = 109267.497916949127102  # Velocidad tangencial en m/s\n",
        "N = 62437.671105033790809  # Velocidad normal en m/s\n",
        "\n",
        "# Convertir a coordenadas cartesianas en el sistema inercial\n",
        "x = r * np.cos(theta)\n",
        "y = r * np.sin(theta)\n",
        "z = 0  # Suponiendo movimiento en el plano ecuatorial\n",
        "\n",
        "vx = v * np.cos(theta) - THETA * np.sin(theta)\n",
        "vy = v * np.sin(theta) + THETA * np.cos(theta)\n",
        "vz = N  # Componente normal\n",
        "\n",
        "# Vector de posición y velocidad\n",
        "r_vec = np.array([x, y, z])\n",
        "v_vec = np.array([vx, vy, vz])\n",
        "\n",
        "# Cálculo del momento angular específico\n",
        "h_vec = np.cross(r_vec, v_vec)\n",
        "h = np.linalg.norm(h_vec)\n",
        "\n",
        "# Cálculo del vector de excentricidad\n",
        "e_vec = (np.cross(v_vec, h_vec) / mu) - (r_vec / np.linalg.norm(r_vec))\n",
        "e = np.linalg.norm(e_vec)\n",
        "\n",
        "# Cálculo del semieje mayor\n",
        "a = 1 / ((2 / np.linalg.norm(r_vec)) - (np.linalg.norm(v_vec)**2 / mu))\n",
        "\n",
        "# Inclinación\n",
        "inc = np.arccos(h_vec[2] / h)\n",
        "\n",
        "# Nodo ascendente\n",
        "n_vec = np.cross([0, 0, 1], h_vec)\n",
        "n = np.linalg.norm(n_vec)\n",
        "\n",
        "# Longitud del nodo ascendente\n",
        "if n_vec[1] >= 0:\n",
        "    RAAN = np.arccos(n_vec[0] / n)\n",
        "else:\n",
        "    RAAN = 2 * np.pi - np.arccos(n_vec[0] / n)\n",
        "\n",
        "# Argumento del periastro\n",
        "if e_vec[2] >= 0:\n",
        "    omega = np.arccos(np.dot(n_vec, e_vec) / (n * e))\n",
        "else:\n",
        "    omega = 2 * np.pi - np.arccos(np.dot(n_vec, e_vec) / (n * e))\n",
        "\n",
        "# Anomalía verdadera\n",
        "if np.dot(r_vec, v_vec) >= 0:\n",
        "    theta_true = np.arccos(np.dot(e_vec, r_vec) / (e * np.linalg.norm(r_vec)))\n",
        "else:\n",
        "    theta_true = 2 * np.pi - np.arccos(np.dot(e_vec, r_vec) / (e * np.linalg.norm(r_vec)))\n",
        "\n",
        "# Mostrar resultados\n",
        "print(\"Elementos orbitales:\")\n",
        "print(f\"Semieje mayor (a): {a} m\")\n",
        "print(f\"Excentricidad (e): {e}\")\n",
        "print(f\"Inclinación (i): {np.degrees(inc)} grados\")\n",
        "print(f\"Longitud del nodo ascendente (RAAN): {np.degrees(RAAN)} grados\")\n",
        "print(f\"Argumento del periastro (omega): {np.degrees(omega)} grados\")\n",
        "print(f\"Anomalía verdadera (theta): {np.degrees(theta_true)} grados\")\n"
      ]
    }
  ]
}